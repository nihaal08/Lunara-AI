{
 "cells": [
  {
   "cell_type": "markdown",
   "id": "4f63ff9b",
   "metadata": {},
   "source": [
    "# Import Libraries"
   ]
  },
  {
   "cell_type": "code",
   "execution_count": 15,
   "id": "e97f43b5",
   "metadata": {},
   "outputs": [],
   "source": [
    "# Import necessary libraries\n",
    "import pandas as pd\n",
    "import numpy as np\n",
    "from sklearn.model_selection import train_test_split, GridSearchCV, cross_val_score\n",
    "from sklearn.preprocessing import LabelEncoder, StandardScaler\n",
    "from sklearn.impute import SimpleImputer\n",
    "from sklearn.metrics import classification_report, confusion_matrix\n",
    "from xgboost import XGBClassifier\n",
    "from imblearn.over_sampling import SMOTE\n",
    "import joblib\n",
    "import warnings\n",
    "warnings.filterwarnings('ignore')"
   ]
  },
  {
   "cell_type": "markdown",
   "id": "b74f6cbc",
   "metadata": {},
   "source": [
    "# Load and Clean Data"
   ]
  },
  {
   "cell_type": "code",
   "execution_count": 16,
   "id": "3a1b84f2",
   "metadata": {},
   "outputs": [
    {
     "name": "stdout",
     "output_type": "stream",
     "text": [
      "<class 'pandas.core.frame.DataFrame'>\n",
      "RangeIndex: 6264 entries, 0 to 6263\n",
      "Data columns (total 16 columns):\n",
      " #   Column                 Non-Null Count  Dtype  \n",
      "---  ------                 --------------  -----  \n",
      " 0   gravida                6264 non-null   float64\n",
      " 1   parity                 6264 non-null   float64\n",
      " 2   Gestational_Age_Weeks  6264 non-null   float64\n",
      " 3   Age                    6264 non-null   float64\n",
      " 4   BMI                    6264 non-null   float64\n",
      " 5   diabetes               6264 non-null   object \n",
      " 6   Hypertension_History   6264 non-null   object \n",
      " 7   Systolic BP            6264 non-null   float64\n",
      " 8   Diastolic BP           6264 non-null   float64\n",
      " 9   HB                     6264 non-null   float64\n",
      " 10  Fetal_Weight           6264 non-null   float64\n",
      " 11  Protein_Uria           6264 non-null   object \n",
      " 12  Uterine_RI             6264 non-null   float64\n",
      " 13  Uterine_PI             6264 non-null   float64\n",
      " 14  Amniotic_Fluid_Levels  6264 non-null   float64\n",
      " 15  Risk_level             6264 non-null   object \n",
      "dtypes: float64(12), object(4)\n",
      "memory usage: 783.1+ KB\n",
      "None\n",
      "   gravida  parity  Gestational_Age_Weeks   Age   BMI diabetes  \\\n",
      "0      4.0     2.0                   26.0  22.0  17.2        1   \n",
      "1      3.0     3.0                   30.0  29.0  21.2        0   \n",
      "2      7.0     4.0                   26.2  35.0  31.2        0   \n",
      "3      3.0     1.0                   22.2  25.0  21.0        0   \n",
      "4      1.0     0.0                   22.1  24.0  26.8        1   \n",
      "\n",
      "  Hypertension_History  Systolic BP  Diastolic BP    HB  Fetal_Weight  \\\n",
      "0                    0        130.0          80.0   8.5        0.6320   \n",
      "1                    0        110.0          60.0   8.3        0.9840   \n",
      "2                    0        110.0          60.0  10.8        0.0076   \n",
      "3                    0        110.0          70.0   9.3        0.5010   \n",
      "4                    0        120.0          80.0   8.0        0.4090   \n",
      "\n",
      "  Protein_Uria  Uterine_RI  Uterine_PI  Amniotic_Fluid_Levels Risk_level  \n",
      "0            0    0.600801    0.796597                   10.0        mid  \n",
      "1            0    0.600801    0.796597                    9.5        low  \n",
      "2            0    0.600801    0.796597                   14.2        mid  \n",
      "3            0    0.600801    0.796597                   10.0        low  \n",
      "4            1    0.600801    0.796597                    9.6        mid  \n"
     ]
    }
   ],
   "source": [
    "# Load dataset\n",
    "df = pd.read_csv(\"Preeclampsia.csv\")\n",
    "\n",
    "# Remove irrelevant column if exists\n",
    "df = df.drop(columns=[\"Unnamed: 12\"], errors='ignore')\n",
    "\n",
    "# Strip whitespace from column names\n",
    "df.columns = df.columns.str.strip()\n",
    "\n",
    "# Rename columns for clarity\n",
    "df.rename(columns={\n",
    "    \"Age (yrs)\": \"Age\",\n",
    "    \"BMI  [kg/m²]\": \"BMI\",\n",
    "    \"History of hypertension (y/n)\": \"Hypertension_History\",\n",
    "    \"gestational age (weeks)\": \"Gestational_Age_Weeks\",\n",
    "    \"fetal weight(kgs)\": \"Fetal_Weight\",\n",
    "    \"Protien Uria\": \"Protein_Uria\",\n",
    "    \"Uterine Artery Doppler Resistance Index (RI)\": \"Uterine_RI\",\n",
    "    \"Uterine Artery Doppler Pulsatility Index (PI\": \"Uterine_PI\",\n",
    "    \"amniotic fluid levels(cm)\": \"Amniotic_Fluid_Levels\"\n",
    "}, inplace=True)\n",
    "\n",
    "# Convert numeric columns\n",
    "numeric_cols = [\n",
    "    'gravida', 'parity', 'Gestational_Age_Weeks', 'Age', 'BMI', \n",
    "    'Systolic BP', 'Diastolic BP', 'HB', 'Fetal_Weight', \n",
    "    'Uterine_RI', 'Uterine_PI', 'Amniotic_Fluid_Levels'\n",
    "]\n",
    "for col in numeric_cols:\n",
    "    df[col] = pd.to_numeric(df[col], errors='coerce')\n",
    "\n",
    "# Drop rows with critical missing values\n",
    "df.dropna(subset=['Age', 'Systolic BP', 'Diastolic BP', 'Fetal_Weight'], inplace=True)\n",
    "\n",
    "# Fill remaining NaNs with column mean\n",
    "df.fillna(df.mean(numeric_only=True), inplace=True)\n",
    "\n",
    "# Reset index\n",
    "df.reset_index(drop=True, inplace=True)\n",
    "\n",
    "# Display info\n",
    "print(df.info())\n",
    "print(df.head())"
   ]
  },
  {
   "cell_type": "markdown",
   "id": "e1bc6ab5",
   "metadata": {},
   "source": [
    "# Remove Duplicates and Additional irrelevant columns"
   ]
  },
  {
   "cell_type": "code",
   "execution_count": 17,
   "id": "e8b0b4c8",
   "metadata": {},
   "outputs": [],
   "source": [
    "# Remove duplicate header row if exists\n",
    "df = df[df['gravida'] != 'gravida']\n",
    "\n",
    "# Drop other irrelevant columns if present\n",
    "columns_to_drop = ['Uterine_RI', 'Uterine_PI']\n",
    "df = df.drop(columns=columns_to_drop, errors='ignore')"
   ]
  },
  {
   "cell_type": "markdown",
   "id": "f4da1de2",
   "metadata": {},
   "source": [
    "# Data Type Checks and Handling"
   ]
  },
  {
   "cell_type": "code",
   "execution_count": 18,
   "id": "47cdc31d",
   "metadata": {},
   "outputs": [
    {
     "name": "stdout",
     "output_type": "stream",
     "text": [
      "gravida                  float64\n",
      "parity                   float64\n",
      "Gestational_Age_Weeks    float64\n",
      "Age                      float64\n",
      "BMI                      float64\n",
      "diabetes                  object\n",
      "Hypertension_History      object\n",
      "Systolic BP              float64\n",
      "Diastolic BP             float64\n",
      "HB                       float64\n",
      "Fetal_Weight             float64\n",
      "Protein_Uria              object\n",
      "Amniotic_Fluid_Levels    float64\n",
      "Risk_level                object\n",
      "dtype: object\n",
      "gravida                  0\n",
      "parity                   0\n",
      "Gestational_Age_Weeks    0\n",
      "Age                      0\n",
      "BMI                      0\n",
      "diabetes                 0\n",
      "Hypertension_History     0\n",
      "Systolic BP              0\n",
      "Diastolic BP             0\n",
      "HB                       0\n",
      "Fetal_Weight             0\n",
      "Protein_Uria             0\n",
      "Amniotic_Fluid_Levels    0\n",
      "Risk_level               0\n",
      "dtype: int64\n"
     ]
    }
   ],
   "source": [
    "# Confirm data types\n",
    "print(df.dtypes)\n",
    "\n",
    "# Check nulls\n",
    "print(df.isnull().sum())"
   ]
  },
  {
   "cell_type": "markdown",
   "id": "5f507728",
   "metadata": {},
   "source": [
    "# Binary Columns Processing"
   ]
  },
  {
   "cell_type": "code",
   "execution_count": 19,
   "id": "3fbd04e9",
   "metadata": {},
   "outputs": [],
   "source": [
    "# Define binary columns\n",
    "binary_columns = ['diabetes', 'Hypertension_History', 'Protein_Uria']\n",
    "\n",
    "# Imputer for binary columns\n",
    "bin_imputer = SimpleImputer(strategy='most_frequent')\n",
    "\n",
    "# Convert binary columns to 0/1\n",
    "for col in binary_columns:\n",
    "    if col in df.columns:\n",
    "        df[col] = df[col].apply(lambda x: 1 if str(x).lower() in ['y', '1', 'yes', 'true']\n",
    "                              else 0 if str(x).lower() in ['n', '0', 'no', 'false']\n",
    "                              else np.nan)\n",
    "df[binary_columns] = bin_imputer.fit_transform(df[binary_columns])"
   ]
  },
  {
   "cell_type": "markdown",
   "id": "8e03f911",
   "metadata": {},
   "source": [
    "#  Feature Engineering"
   ]
  },
  {
   "cell_type": "code",
   "execution_count": 20,
   "id": "6595177d",
   "metadata": {},
   "outputs": [],
   "source": [
    "#feature Engineering\n",
    "# BP ratio\n",
    "df['BP_ratio'] = df['Systolic BP'] / df['Diastolic BP'].replace(0, 1)\n",
    "df['BP_ratio'].replace([np.inf, -np.inf], df['BP_ratio'].median(), inplace=True)\n",
    "\n",
    "# BMI category\n",
    "df['BMI_category'] = pd.cut(df['BMI'], \n",
    "                             bins=[0, 18.5, 25, 30, 100], \n",
    "                             labels=[0, 1, 2, 3], \n",
    "                             include_lowest=True)\n",
    "df['BMI_category'] = df['BMI_category'].cat.codes\n",
    "df['BMI_category'].replace(-1, 1, inplace=True)"
   ]
  },
  {
   "cell_type": "markdown",
   "id": "b728a263",
   "metadata": {},
   "source": [
    "# Final Data Checks & Encoding"
   ]
  },
  {
   "cell_type": "code",
   "execution_count": 21,
   "id": "3871f715",
   "metadata": {},
   "outputs": [],
   "source": [
    "# Check for NaNs\n",
    "if df.isna().any().any():\n",
    "    print(\"NaNs found in columns:\", df.columns[df.isna().any()].tolist())\n",
    "    df = df.fillna(df.median(numeric_only=True))\n",
    "    \n",
    "# Encode target variable\n",
    "from sklearn.preprocessing import LabelEncoder\n",
    "le = LabelEncoder()\n",
    "df['Risk_level'] = le.fit_transform(df['Risk_level'])"
   ]
  },
  {
   "cell_type": "markdown",
   "id": "79d65bbb",
   "metadata": {},
   "source": [
    "# Prepare Features and Target"
   ]
  },
  {
   "cell_type": "code",
   "execution_count": 22,
   "id": "7a255702",
   "metadata": {},
   "outputs": [],
   "source": [
    "X = df.drop('Risk_level', axis=1)\n",
    "y = df['Risk_level']\n",
    "\n",
    "# Standardize features\n",
    "scaler = StandardScaler()\n",
    "X = pd.DataFrame(scaler.fit_transform(X), columns=X.columns)\n",
    "\n",
    "# Final NaN check\n",
    "if X.isna().any().any():\n",
    "    print(\"NaNs in X after preprocessing:\", X.columns[X.isna().any()].tolist())"
   ]
  },
  {
   "cell_type": "markdown",
   "id": "0aee9c90",
   "metadata": {},
   "source": [
    "# Model Training with SMOTE and Hyperparameter Tuning"
   ]
  },
  {
   "cell_type": "code",
   "execution_count": 23,
   "id": "9271d6b6",
   "metadata": {},
   "outputs": [
    {
     "name": "stdout",
     "output_type": "stream",
     "text": [
      "Best Parameters: {'learning_rate': 0.1, 'max_depth': 7, 'n_estimators': 200}\n",
      "Cross-Validation Accuracy: 0.81 ± 0.01\n"
     ]
    }
   ],
   "source": [
    "from imblearn.over_sampling import SMOTE\n",
    "\n",
    "# Apply SMOTE\n",
    "smote = SMOTE(random_state=42)\n",
    "X_resampled, y_resampled = smote.fit_resample(X, y)\n",
    "\n",
    "# Split into train/test\n",
    "X_train, X_test, y_train, y_test = train_test_split(X_resampled, y_resampled, test_size=0.2, random_state=42)\n",
    "\n",
    "# Initialize model\n",
    "xgb_model = XGBClassifier(random_state=42, eval_metric='mlogloss')\n",
    "\n",
    "# Hyperparameter grid\n",
    "param_grid = {\n",
    "    'n_estimators': [100, 200],\n",
    "    'max_depth': [3, 5, 7],\n",
    "    'learning_rate': [0.01, 0.1]\n",
    "}\n",
    "\n",
    "# Grid Search\n",
    "grid_search = GridSearchCV(xgb_model, param_grid, cv=5, scoring='accuracy', n_jobs=-1)\n",
    "grid_search.fit(X_train, y_train)\n",
    "\n",
    "# Best model\n",
    "best_model = grid_search.best_estimator_\n",
    "print(\"Best Parameters:\", grid_search.best_params_)\n",
    "\n",
    "# Cross-validation score\n",
    "cv_scores = cross_val_score(best_model, X_train, y_train, cv=5, scoring='accuracy')\n",
    "print(\"Cross-Validation Accuracy: {:.2f} ± {:.2f}\".format(cv_scores.mean(), cv_scores.std()))"
   ]
  },
  {
   "cell_type": "markdown",
   "id": "79af3790",
   "metadata": {},
   "source": [
    "# Model Evaluation"
   ]
  },
  {
   "cell_type": "code",
   "execution_count": 24,
   "id": "62f270ca",
   "metadata": {},
   "outputs": [
    {
     "name": "stdout",
     "output_type": "stream",
     "text": [
      "\n",
      "Classification Report:\n",
      "              precision    recall  f1-score   support\n",
      "\n",
      "        high       0.78      0.70      0.74       782\n",
      "         low       0.80      0.82      0.81       708\n",
      "        low        1.00      1.00      1.00       764\n",
      "         mid       0.67      0.72      0.69       732\n",
      "\n",
      "    accuracy                           0.81      2986\n",
      "   macro avg       0.81      0.81      0.81      2986\n",
      "weighted avg       0.81      0.81      0.81      2986\n",
      "\n",
      "\n",
      "Confusion Matrix:\n",
      "[[549  51   1 181]\n",
      " [ 44 582   0  82]\n",
      " [  0   0 764   0]\n",
      " [107  98   1 526]]\n"
     ]
    }
   ],
   "source": [
    "# Predict on test set\n",
    "y_pred = best_model.predict(X_test)\n",
    "\n",
    "# Classification report\n",
    "print(\"\\nClassification Report:\")\n",
    "print(classification_report(y_test, y_pred, target_names=le.classes_))\n",
    "\n",
    "# Confusion matrix\n",
    "print(\"\\nConfusion Matrix:\")\n",
    "print(confusion_matrix(y_test, y_pred))"
   ]
  },
  {
   "cell_type": "markdown",
   "id": "08669f1d",
   "metadata": {},
   "source": [
    "# Save Model and Artifacts"
   ]
  },
  {
   "cell_type": "code",
   "execution_count": 25,
   "id": "1ca90a28",
   "metadata": {},
   "outputs": [
    {
     "name": "stdout",
     "output_type": "stream",
     "text": [
      "Model and artifacts saved.\n"
     ]
    }
   ],
   "source": [
    "# Save model and preprocessing objects\n",
    "joblib.dump(best_model, 'models\\preeclampsia_model_improved.pkl')\n",
    "joblib.dump(le, 'models\\label_encoder_improved.pkl')\n",
    "joblib.dump(scaler, 'models\\scaler.pkl')\n",
    "joblib.dump(X_train.columns, 'models\\columns_improved.pkl')\n",
    "print(\"Model and artifacts saved.\")"
   ]
  },
  {
   "cell_type": "markdown",
   "id": "30d58a2b",
   "metadata": {},
   "source": [
    "# Define Load and Predict Function"
   ]
  },
  {
   "cell_type": "code",
   "execution_count": 26,
   "id": "960ee198",
   "metadata": {},
   "outputs": [],
   "source": [
    "def load_and_predict(new_data, model_path='models\\preeclampsia_model_improved.pkl', \n",
    "                     le_path='models\\label_encoder_improved.pkl', \n",
    "                     scaler_path='models\\scaler.pkl', \n",
    "                     columns_path='models\\columns_improved.pkl'):\n",
    "    model = joblib.load(model_path)\n",
    "    label_encoder = joblib.load(le_path)\n",
    "    scaler = joblib.load(scaler_path)\n",
    "    saved_columns = joblib.load(columns_path)\n",
    "    \n",
    "    # Feature engineering\n",
    "    new_data['BP_ratio'] = new_data['Systolic BP'] / new_data['Diastolic BP'].replace(0, 1)\n",
    "    new_data['BP_ratio'].replace([np.inf, -np.inf], new_data['BP_ratio'].median(), inplace=True)\n",
    "\n",
    "    new_data['BMI_category'] = pd.cut(new_data['BMI'], \n",
    "                                     bins=[0, 18.5, 25, 30, 100], \n",
    "                                     labels=[0, 1, 2, 3], \n",
    "                                     include_lowest=True)\n",
    "    new_data['BMI_category'] = new_data['BMI_category'].cat.codes\n",
    "    new_data['BMI_category'].replace(-1, 1, inplace=True)\n",
    "\n",
    "    # Reindex columns\n",
    "    new_data = new_data.reindex(columns=saved_columns, fill_value=0)\n",
    "    \n",
    "    # Scale\n",
    "    new_data = scaler.transform(new_data)\n",
    "    \n",
    "    # Predict\n",
    "    predictions = model.predict(new_data)\n",
    "    predicted_labels = label_encoder.inverse_transform(predictions)\n",
    "    return predicted_labels"
   ]
  },
  {
   "cell_type": "markdown",
   "id": "a505ea89",
   "metadata": {},
   "source": [
    "# Example Prediction"
   ]
  },
  {
   "cell_type": "code",
   "execution_count": 27,
   "id": "ace7bc70",
   "metadata": {},
   "outputs": [
    {
     "name": "stdout",
     "output_type": "stream",
     "text": [
      "\n",
      "Prediction for new data: ['low']\n"
     ]
    }
   ],
   "source": [
    "# Example new data\n",
    "new_data = pd.DataFrame({\n",
    "    'gravida': [3], 'parity': [1], 'Gestational_Age_Weeks': [22.2], 'Age': [25],\n",
    "    'BMI': [21.0], 'diabetes': [0], 'Hypertension_History': [0],\n",
    "    'Systolic BP': [110], 'Diastolic BP': [70], 'HB': [9.3], 'Fetal_Weight': [0.501],\n",
    "    'Protein_Uria': [0], 'Amniotic_Fluid_Levels': [10.0]\n",
    "})\n",
    "\n",
    "# Make prediction\n",
    "predictions = load_and_predict(new_data)\n",
    "print(\"\\nPrediction for new data:\", predictions)"
   ]
  },
  {
   "cell_type": "code",
   "execution_count": 32,
   "id": "a2444a2e",
   "metadata": {},
   "outputs": [
    {
     "name": "stdout",
     "output_type": "stream",
     "text": [
      "Prediction: ['high']\n"
     ]
    }
   ],
   "source": [
    "# Example : High risk profile\n",
    "new_data2 = pd.DataFrame({\n",
    "    'gravida': [4],\n",
    "    'parity': [0],\n",
    "    'Gestational_Age_Weeks': [20],\n",
    "    'Age': [35],\n",
    "    'BMI': [32],\n",
    "    'diabetes': [1],\n",
    "    'Hypertension_History': [1],\n",
    "    'Systolic BP': [160],\n",
    "    'Diastolic BP': [110],\n",
    "    'HB': [8.0],\n",
    "    'Fetal_Weight': [0.4],\n",
    "    'Protein_Uria': [1],\n",
    "    'Amniotic_Fluid_Levels': [8]\n",
    "})\n",
    "\n",
    "prediction2 = load_and_predict(new_data2)\n",
    "print(\"Prediction:\", prediction2)"
   ]
  },
  {
   "cell_type": "code",
   "execution_count": null,
   "id": "e839028c",
   "metadata": {},
   "outputs": [],
   "source": []
  }
 ],
 "metadata": {
  "kernelspec": {
   "display_name": "Python 3",
   "language": "python",
   "name": "python3"
  },
  "language_info": {
   "codemirror_mode": {
    "name": "ipython",
    "version": 3
   },
   "file_extension": ".py",
   "mimetype": "text/x-python",
   "name": "python",
   "nbconvert_exporter": "python",
   "pygments_lexer": "ipython3",
   "version": "3.11.9"
  }
 },
 "nbformat": 4,
 "nbformat_minor": 5
}
